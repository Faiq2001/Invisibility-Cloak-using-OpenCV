{
 "cells": [
  {
   "cell_type": "code",
   "execution_count": 90,
   "metadata": {},
   "outputs": [],
   "source": [
    "import numpy as np\n",
    "import cv2\n",
    "\n",
    "import time"
   ]
  },
  {
   "cell_type": "code",
   "execution_count": 91,
   "metadata": {},
   "outputs": [],
   "source": [
    "cap = cv2.VideoCapture(0)"
   ]
  },
  {
   "cell_type": "code",
   "execution_count": 92,
   "metadata": {},
   "outputs": [],
   "source": [
    "time.sleep(2)"
   ]
  },
  {
   "cell_type": "code",
   "execution_count": 93,
   "metadata": {},
   "outputs": [],
   "source": [
    "background = 0\n",
    "\n",
    "for i in range(30):\n",
    "    ret,background = cap.read()"
   ]
  },
  {
   "cell_type": "code",
   "execution_count": 94,
   "metadata": {},
   "outputs": [],
   "source": [
    "while(cap.isOpened()):\n",
    "    ret,img = cap.read()\n",
    "    \n",
    "    if not ret:\n",
    "        break\n",
    "    \n",
    "    hsv = cv2.cvtColor(img,cv2.COLOR_BGR2HSV)\n",
    "    \n",
    "    lower_green = np.array([65,60,70])\n",
    "    upper_green = np.array([80,255,200])\n",
    "    \n",
    "    mask1 = cv2.inRange(hsv,lower_green,upper_green)\n",
    "    \n",
    "    lower_green = np.array([45,60,70])\n",
    "    upper_green = np.array([65,255,200])\n",
    "    \n",
    "    mask2 = cv2.inRange(hsv,lower_green,upper_green)\n",
    "    \n",
    "    mask1 = mask1+mask2\n",
    "    \n",
    "    mask1 = cv2.morphologyEx(mask1,cv2.MORPH_OPEN,np.ones((3,3),np.uint8),iterations=2)\n",
    "    mask1 = cv2.morphologyEx(mask2,cv2.MORPH_DILATE,np.ones((3,3),np.uint8),iterations=10)\n",
    "    \n",
    "    mask2 = cv2.bitwise_not(mask1)\n",
    "    \n",
    "    res1 = cv2.bitwise_and(background,background,mask=mask1)\n",
    "    res2 = cv2.bitwise_and(img,img,mask=mask2)\n",
    "    \n",
    "    final_output = cv2.addWeighted(res1,1,res2,2,0)\n",
    "    \n",
    "    cv2.imshow(\"DONE\",final_output)\n",
    "    \n",
    "    k=cv2.waitKey(10)\n",
    "    if k==27:\n",
    "        break;\n",
    "    "
   ]
  },
  {
   "cell_type": "code",
   "execution_count": 95,
   "metadata": {},
   "outputs": [],
   "source": [
    "cap.release()\n",
    "cv2.destroyAllWindows()"
   ]
  }
 ],
 "metadata": {
  "kernelspec": {
   "display_name": "Python 3",
   "language": "python",
   "name": "python3"
  },
  "language_info": {
   "codemirror_mode": {
    "name": "ipython",
    "version": 3
   },
   "file_extension": ".py",
   "mimetype": "text/x-python",
   "name": "python",
   "nbconvert_exporter": "python",
   "pygments_lexer": "ipython3",
   "version": "3.8.3"
  }
 },
 "nbformat": 4,
 "nbformat_minor": 4
}
